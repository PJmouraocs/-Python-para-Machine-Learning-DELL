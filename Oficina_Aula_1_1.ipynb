{
  "nbformat": 4,
  "nbformat_minor": 0,
  "metadata": {
    "colab": {
      "name": "Oficina Aula 1.1.ipynb",
      "provenance": [],
      "collapsed_sections": []
    },
    "kernelspec": {
      "name": "python3",
      "display_name": "Python 3"
    },
    "language_info": {
      "name": "python"
    }
  },
  "cells": [
    {
      "cell_type": "markdown",
      "metadata": {
        "id": "joA2vKWj7rAX"
      },
      "source": [
        "Oficina Aula 1.1"
      ]
    },
    {
      "cell_type": "markdown",
      "metadata": {
        "id": "DmvApKWz7unZ"
      },
      "source": [
        "\n",
        "Depois de aprender bastante sobre programação funcional nesta aula, chegou o momento de colocar seus conhecimentos em prática para resolver o problema proposto nesta oficina. Para isso, imagine o seguinte caso:\n",
        "\n",
        "Você foi chamado para trabalhar como novo programador Python para o aplicativo Spotify, analisando as avaliações de músicas pelos usuários. O seu chefe está muito entusiasmado com a sua chegada e já pensou em várias perguntas para você responder. Ele coletou diversas avaliações dos gêneros musicais Rock e Pop.\n",
        "\n",
        "Em cada avaliação o usuário pode dar uma nota em quantidade de estrelas para uma música, de 1 a 5. Ele quer que você mapeie as avaliações numéricas em categorias: entre 0 e 1 estrelas é uma música ruim, entre 2 e 3 é uma música mediana e entre 4 e 5 são para as músicas boas. O seu papel é dizer para o seu chefe quantas músicas ruins, medianas e boas existem para cada gênero: Rock e Pop.\n",
        "\n",
        "Além disso, ele quer saber se existe alguma música mediana de Rock e se todas as músicas de Pop são boas. Por fim, quer saber qual gênero musical teve uma maior quantidade de músicas boas. Abaixo seguem as notas de cada gênero.\n",
        "\n",
        "notas_rock = [5, 1, 4, 0, 2, 5, 2, 1, 0, 5, 5, 3, 5, 2, 5, 5, 3, 5, 4, 4]\n",
        "notas_pop = [3, 2, 5, 1, 2, 1, 4, 1, 5, 0, 4, 2, 1, 2, 5, 2, 4, 4, 0, 1]\n",
        "\n",
        "Pronto, com essas informações você pode começar a desenvolver um programa em Python capaz de responder as perguntas do seu chefe.\n",
        "\n",
        "Boa prática!"
      ]
    },
    {
      "cell_type": "code",
      "metadata": {
        "colab": {
          "base_uri": "https://localhost:8080/"
        },
        "id": "c9paDbJX7rqI",
        "outputId": "aa2d7da6-e391-46c8-8590-13c83745c6c9"
      },
      "source": [
        "notas_rock = [5, 1, 4, 0, 2, 5, 2, 1, 0, 5, 5, 3, 5, 2, 5, 5, 3, 5, 4, 4]\n",
        "notas_pop = [3, 2, 5, 1, 2, 1, 4, 1, 5, 0, 4, 2, 1, 2, 5, 2, 4, 4, 0, 1]\n",
        "\n",
        "\n",
        "def group_category_of_music(criteria, iterable):\n",
        "    return list(filter(criteria, iterable))\n",
        "\n",
        "\n",
        "rock_ruim = group_category_of_music(lambda x: 0 <= x <= 1, notas_rock)\n",
        "rock_mediano = group_category_of_music(lambda x: 2 <= x <= 3, notas_rock)\n",
        "rock_bom = group_category_of_music(lambda x: 4 <= x <= 5, notas_rock)\n",
        "\n",
        "pop_ruim = group_category_of_music(lambda x: 0 <= x <= 1, notas_pop)\n",
        "pop_mediano = group_category_of_music(lambda x: 2 <= x <= 3, notas_pop)\n",
        "pop_bom = group_category_of_music(lambda x: 4 <= x <= 5, notas_pop)\n",
        "\n",
        "print('\\nROCK:\\n')\n",
        "print(f'Quantidade de rock ruim: {len(rock_ruim)}')\n",
        "print(f'Quantidade de rock mediano: {len(rock_mediano)}')\n",
        "print(f'Quantidade de rock bom: {len(rock_bom)}')\n",
        "\n",
        "print('\\nPOP:\\n')\n",
        "print(f'Quantidade de pop ruim: {len(pop_ruim)}')\n",
        "print(f'Quantidade de pop mediano: {len(pop_mediano)}')\n",
        "print(f'Quantidade de pop bom: {len(pop_bom)}')\n",
        "\n",
        "if len(rock_mediano) > 0:\n",
        "    print('Há músicas medianas de rock')\n",
        "else:\n",
        "    print('Não há músicas medianas de rock')\n",
        "\n",
        "if len(pop_bom) == len(notas_pop):\n",
        "    print('Todas as músicas pop são boas')\n",
        "else:\n",
        "    print('Nem todas as músicas pop são boas')\n",
        "\n",
        "if len(rock_bom) > len(pop_bom):\n",
        "    print('Há mais rocks bons do que pops bons')\n",
        "else:\n",
        "    print('Há mais pops bons do que rocks bons')"
      ],
      "execution_count": 1,
      "outputs": [
        {
          "output_type": "stream",
          "name": "stdout",
          "text": [
            "\n",
            "ROCK:\n",
            "\n",
            "Quantidade de rock ruim: 4\n",
            "Quantidade de rock mediano: 5\n",
            "Quantidade de rock bom: 11\n",
            "\n",
            "POP:\n",
            "\n",
            "Qunaitdade de pop ruim: 7\n",
            "Quantidade de pop mediano: 6\n",
            "Quanitddade de pop bom: 7\n",
            "Há músicas medianas de rock\n",
            "Nem todas as músicas pop são boas\n",
            "Há mais rocks bons do que pops bons\n"
          ]
        }
      ]
    }
  ]
}