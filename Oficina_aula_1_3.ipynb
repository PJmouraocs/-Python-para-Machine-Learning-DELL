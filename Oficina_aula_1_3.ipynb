{
 "cells": [
  {
   "cell_type": "code",
   "execution_count": 42,
   "metadata": {},
   "outputs": [
    {
     "name": "stdout",
     "output_type": "stream",
     "text": [
      "1991-05-22 00:00:00\n",
      "1995-04-04 00:00:00\n",
      "1995-10-10 00:00:00\n",
      "1989-07-12 00:00:00\n",
      "1987-06-16 00:00:00\n",
      "1990-07-04 00:00:00\n",
      "2021-11-03 00:00:00\n",
      "Hoje, qua 03 de novembro de 2021, tem aniversário!\n"
     ]
    }
   ],
   "source": [
    "import locale\n",
    "from datetime import datetime\n",
    "\n",
    "# Para ter o fuso em Português\n",
    "locale.setlocale(locale.LC_TIME, 'pt_BR.utf-8')\n",
    "\n",
    "# Lista de strings\n",
    "aniversarios_string = ['22 de Maio de 1991', '04/Abr/1995', '1995-Outubro-10', '12 Julho 1989', '16 de Junho de 1987', '04/07/1990', '3/11/2021']\n",
    "# Lista de padrões utilizados\n",
    "patterns = ['%d/%m/%Y', '%d de %B de %Y', '%d/%b/%Y', '%Y-%B-%d', '%d %B %Y', '%d de %B de %Y']\n",
    "# Lista que conterá as datas convertidas\n",
    "aniversarios_date = []\n",
    "\n",
    "# Laço principal para pecorrer datas\n",
    "for date in aniversarios_string:\n",
    "    # Laço aninhado para pecorrer os padrões para cada data\n",
    "    for pattern in patterns:\n",
    "        # Otimização para testar os padrões e ao encontrar um, parar o laço dos padrões e partir pra próxima data\n",
    "        try:\n",
    "            # Testando os padrões para data\n",
    "            # Ao ter match, strptime converte para formato datetime\n",
    "            # E por fim adicona (\"append\") a data à lista 'aniversarios_date'\n",
    "            aniversarios_date.append(datetime.strptime(date, pattern))\n",
    "            # Se o processo acima ocorreu sem erros, parar o laço interno e partir para próxima data\n",
    "            break\n",
    "        except:\n",
    "            # Caso ocorra erro (Padrão não encaixou), só passe pro próximo\n",
    "            pass\n",
    "\n",
    "# Print das data já em formato datetime\n",
    "for i in aniversarios_date:\n",
    "    print(i)\n",
    "\n",
    "# Date de hoje, com time setado para 00:00:00\n",
    "hoje = datetime.today().replace(hour=0, minute=0, second=0, microsecond=0)\n",
    "\n",
    "# Verificação se a date de hoje está na lista de aniversários\n",
    "if hoje in aniversarios_date:\n",
    "    print(f\"Hoje, {hoje.strftime('%a')} {hoje.strftime('%d')} de {hoje.strftime('%B')} de {hoje.strftime('%Y')}, tem aniversário!\")"
   ]
  }
 ],
 "metadata": {
  "interpreter": {
   "hash": "916dbcbb3f70747c44a77c7bcd40155683ae19c65e1c03b4aa3499c5328201f1"
  },
  "kernelspec": {
   "display_name": "Python 3.7.3 64-bit",
   "name": "python3"
  },
  "language_info": {
   "codemirror_mode": {
    "name": "ipython",
    "version": 3
   },
   "file_extension": ".py",
   "mimetype": "text/x-python",
   "name": "python",
   "nbconvert_exporter": "python",
   "pygments_lexer": "ipython3",
   "version": "3.7.3"
  },
  "orig_nbformat": 4
 },
 "nbformat": 4,
 "nbformat_minor": 2
}
