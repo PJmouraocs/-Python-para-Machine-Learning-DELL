{
  "nbformat": 4,
  "nbformat_minor": 0,
  "metadata": {
    "colab": {
      "name": "Oficina_aula_3",
      "provenance": [],
      "collapsed_sections": []
    },
    "kernelspec": {
      "name": "python3",
      "display_name": "Python 3"
    },
    "language_info": {
      "name": "python"
    }
  },
  "cells": [
    {
      "cell_type": "markdown",
      "metadata": {
        "id": "Yfg-xfRs5oGw"
      },
      "source": [
        "\n",
        "# Oficina 3"
      ]
    },
    {
      "cell_type": "markdown",
      "metadata": {
        "id": "0qWvgh7l53sj"
      },
      "source": [
        "Oficina Aula 3\n",
        "Depois de ter estudado sobre NumPy e seus arrays, o que você acha de colocar em prática tudo isso que você aprendeu? Ótimo, vamos lá!\n",
        "\n",
        "Etapa 1\n",
        "Suponha a seguinte situação: você conseguiu um emprego no Instagram como cientista de dados. A sua chefe pediu que você analisasse as visualizações diárias de stories da última semana para uma lista de pessoas. O intuito é atualizar o algoritmo de sugestão do aplicativo para promover as pessoas que mais tiveram visualização nos stories. Seguem os dados abaixo:\n",
        "\n",
        "visualizacao_stories = [\n",
        "    [187, 120, 88, 70, 130, 168, 213],\n",
        "    [0, 0, 42, 0, 0, 55, 77],\n",
        "    [91, 0, 61, 0, 71, 121, 271],\n",
        "    [0, 0, 0, 0, 187, 0, 0],\n",
        "    [42, 23, 34, 0, 39, 29, 36]\n",
        "]\n",
        "pessoas = ['Raquel', 'Lucas', 'Daniel', 'Natalia', 'Anderson']\n",
        "dias_semana = ['Domingo', 'Segunda', 'Terça', 'Quarta', 'Quinta', 'Sexta', 'Sábado']\n",
        "Os dados estão organizados da seguinte forma: a primeira linha se refere aos stories da Raquel; a segunda, aos do Lucas; e assim por diante. Com relação às colunas, a primeira coluna são os stories do Domingo, em seguida, os stories da Segunda e assim por diante até a última coluna, que se refere ao Sábado.\n",
        "\n",
        "Sabendo disso, a sua chefe espera que você retorne algumas informações para ela até o fim do dia. Qual a média de visualizações por dia de todas essas pessoas? Qual o dia que teve mais visualizações de stories somadas? Quem foi que teve o maior número de visualizações na última semana?\n",
        "\n",
        "Para esta primeira etapa da oficina, você deve responder a essas perguntas com base nos seus estudos. Caso tenha dúvidas, retorne ao conteúdo da aula e fique à vontade para pesquisar.\n",
        "\n",
        "Etapa 2\n",
        "Depois de sua chefe ficar empolgada com os resultados que você conseguiu, ela pediu pra você analisar as visualizações dos stories dessa semana. Porém, o sistema de coleta apresentou defeitos e não conseguiu registrar os stories sem visualização como 0. Os dados obtidos estão dispostos abaixo:\n",
        "\n",
        "visualizacao_stories_invalidos = np.array([\n",
        "    [52, 68, 97, 55, -1, 98, -1],\n",
        "    [53, -1, 38, -1, -1, 72, 49],\n",
        "    [88, -1, 64, -1, 77, 130, 43],\n",
        "    [-1, 30, -1, -1, -1, 182, -1],\n",
        "    [41, 20, 33, -1, 37, 23, 7]\n",
        "])\n",
        "Note que o sistema de coleta da sua chefe produziu erros ao obter informações de dias que não conteve stories. Você deve considerar inválidos os valores com -1.\n",
        "\n",
        "A sua chefe quer que você realize a análise considerando todos os dados das últimas duas semanas. Considerando isso, você deve responder às mesmas questões da etapa anterior.\n",
        "\n",
        "Boa prática!\n",
        "\n",
        "\n",
        "Há alguns pontos para analisar nestes exemplos. Vamos lá!"
      ]
    },
    {
      "cell_type": "code",
      "metadata": {
        "id": "9B_QbV7r5nQL"
      },
      "source": [
        "import numpy as np\n",
        "\n",
        "visualizations = np.array ([\n",
        "    [187, 120, 88, 70, 130, 168, 213],\n",
        "    [0, 0, 42, 0, 0, 55, 77],\n",
        "    [91, 0, 61, 0, 71, 121, 271],\n",
        "    [0, 0, 0, 0, 187, 0, 0],\n",
        "    [42, 23, 34, 0, 39, 29, 36]\n",
        "])\n",
        "\n",
        "people = ['Raquel', 'Lucas', 'Daniel', 'Natalia', 'Anderson']\n",
        "days = ['Domingo', 'Segunda', 'Terça', 'Quarta', 'Quinta', 'Sexta', 'Sábado']"
      ],
      "execution_count": 2,
      "outputs": []
    },
    {
      "cell_type": "code",
      "metadata": {
        "colab": {
          "base_uri": "https://localhost:8080/"
        },
        "id": "fX5GkCWo571K",
        "outputId": "ac949d87-877a-434c-bd65-e620943b430d"
      },
      "source": [
        "visualization_mean = visualizations.mean(axis=0)\n",
        "print(\"A média de visualizações por dia de todas as pessoas:\")\n",
        "\n",
        "for day, mean in zip(days, visualization_mean):\n",
        "    print(f\"{day} - {mean}\")"
      ],
      "execution_count": 3,
      "outputs": [
        {
          "output_type": "stream",
          "name": "stdout",
          "text": [
            "Visualização diária por usuário:\n",
            "Domingo - 64.0\n",
            "Segunda - 28.6\n",
            "Terça - 45.0\n",
            "Quarta - 14.0\n",
            "Quinta - 85.4\n",
            "Sexta - 74.6\n",
            "Sábado - 119.4\n"
          ]
        }
      ]
    },
    {
      "cell_type": "code",
      "metadata": {
        "colab": {
          "base_uri": "https://localhost:8080/"
        },
        "id": "ZYrXLfHB7IXY",
        "outputId": "6b714da0-a6f1-4aec-fd76-5f480d866d73"
      },
      "source": [
        "daily_visualizations = visualizations.sum(axis=0)\n",
        "max_daily_visualization_idx = daily_visualizations.argmax()\n",
        "print(f\"o dia que teve mais visualizações de stories somadas: {days[max_daily_visualization_idx]}\")"
      ],
      "execution_count": 4,
      "outputs": [
        {
          "output_type": "stream",
          "name": "stdout",
          "text": [
            "o dia que teve mais visualizações de stories somadas: Sábado\n"
          ]
        }
      ]
    },
    {
      "cell_type": "code",
      "metadata": {
        "colab": {
          "base_uri": "https://localhost:8080/"
        },
        "id": "Ek3HJi5T7VzY",
        "outputId": "617b3eee-8dbe-47de-879b-edaa54aabe87"
      },
      "source": [
        "user_visualizations = visualizations.sum(axis=1)\n",
        "max_user_visualization_idx = user_visualizations.argmax()\n",
        "print(f\"Quem teve o maior número de visualizações na última semana foi: {people[max_user_visualization_idx]}\")"
      ],
      "execution_count": 5,
      "outputs": [
        {
          "output_type": "stream",
          "name": "stdout",
          "text": [
            "Quem teve o maior número de visualizações na última semana foi: Raquel\n"
          ]
        }
      ]
    },
    {
      "cell_type": "markdown",
      "metadata": {
        "id": "5eRyU4Z77nnW"
      },
      "source": [
        "## Parte 2"
      ]
    },
    {
      "cell_type": "code",
      "metadata": {
        "colab": {
          "base_uri": "https://localhost:8080/"
        },
        "id": "ojmtCqku7o2X",
        "outputId": "ff3d0e0a-1673-444c-9a37-e8da61816aeb"
      },
      "source": [
        "import numpy as np\n",
        "\n",
        "visualizations_bada_data = np.array([\n",
        "    [52, 68, 97, 55, -1, 98, -1],\n",
        "    [53, -1, 38, -1, -1, 72, 49], \n",
        "    [88, -1, 64, -1, 77, 130, 43],\n",
        "    [-1, 30, -1, -1, -1, 182, -1],\n",
        "    [41, 20, 33, -1, 37, 23, 7] ]\n",
        ")\n",
        "\n",
        "masked_data = np.ma.masked_where(visualizations_bada_data == -1, visualizations_bada_data)\n",
        "masked_data"
      ],
      "execution_count": 8,
      "outputs": [
        {
          "output_type": "execute_result",
          "data": {
            "text/plain": [
              "masked_array(\n",
              "  data=[[52, 68, 97, 55, --, 98, --],\n",
              "        [53, --, 38, --, --, 72, 49],\n",
              "        [88, --, 64, --, 77, 130, 43],\n",
              "        [--, 30, --, --, --, 182, --],\n",
              "        [41, 20, 33, --, 37, 23, 7]],\n",
              "  mask=[[False, False, False, False,  True, False,  True],\n",
              "        [False,  True, False,  True,  True, False, False],\n",
              "        [False,  True, False,  True, False, False, False],\n",
              "        [ True, False,  True,  True,  True, False,  True],\n",
              "        [False, False, False,  True, False, False, False]],\n",
              "  fill_value=999999)"
            ]
          },
          "metadata": {},
          "execution_count": 8
        }
      ]
    },
    {
      "cell_type": "code",
      "metadata": {
        "colab": {
          "base_uri": "https://localhost:8080/"
        },
        "id": "7L7XKcz6773F",
        "outputId": "32dd53a3-bc29-4bb1-b32b-8a376845ba8b"
      },
      "source": [
        "fixed_data = masked_data.filled(0)\n",
        "fixed_data"
      ],
      "execution_count": 9,
      "outputs": [
        {
          "output_type": "execute_result",
          "data": {
            "text/plain": [
              "array([[ 52,  68,  97,  55,   0,  98,   0],\n",
              "       [ 53,   0,  38,   0,   0,  72,  49],\n",
              "       [ 88,   0,  64,   0,  77, 130,  43],\n",
              "       [  0,  30,   0,   0,   0, 182,   0],\n",
              "       [ 41,  20,  33,   0,  37,  23,   7]])"
            ]
          },
          "metadata": {},
          "execution_count": 9
        }
      ]
    },
    {
      "cell_type": "code",
      "metadata": {
        "id": "ZWbDnT5I8jHd"
      },
      "source": [
        "total_data = visualizations + fixed_data"
      ],
      "execution_count": 11,
      "outputs": []
    },
    {
      "cell_type": "code",
      "metadata": {
        "colab": {
          "base_uri": "https://localhost:8080/"
        },
        "id": "REa_I9RZ8rhZ",
        "outputId": "d5c61108-b1e9-44df-92d7-7e6334da7f11"
      },
      "source": [
        "total_data"
      ],
      "execution_count": 12,
      "outputs": [
        {
          "output_type": "execute_result",
          "data": {
            "text/plain": [
              "array([[239, 188, 185, 125, 130, 266, 213],\n",
              "       [ 53,   0,  80,   0,   0, 127, 126],\n",
              "       [179,   0, 125,   0, 148, 251, 314],\n",
              "       [  0,  30,   0,   0, 187, 182,   0],\n",
              "       [ 83,  43,  67,   0,  76,  52,  43]])"
            ]
          },
          "metadata": {},
          "execution_count": 12
        }
      ]
    },
    {
      "cell_type": "code",
      "metadata": {
        "colab": {
          "base_uri": "https://localhost:8080/"
        },
        "id": "DP4rgF3b8wZk",
        "outputId": "19fb4600-b345-45fb-e683-25d2e37286f4"
      },
      "source": [
        "two_week_mean = total_data.mean(axis=0)\n",
        "print(\"A média de visualizações por dia de todas as pessoas em duas semanas:\")\n",
        "\n",
        "for day, mean in zip(days, two_week_mean):\n",
        "    print(f\"{day} - {mean}\")"
      ],
      "execution_count": 13,
      "outputs": [
        {
          "output_type": "stream",
          "name": "stdout",
          "text": [
            "A média de visualizações por dia de todas as pessoas em duas semanas:\n",
            "Domingo - 110.8\n",
            "Segunda - 52.2\n",
            "Terça - 91.4\n",
            "Quarta - 25.0\n",
            "Quinta - 108.2\n",
            "Sexta - 175.6\n",
            "Sábado - 139.2\n"
          ]
        }
      ]
    },
    {
      "cell_type": "code",
      "metadata": {
        "colab": {
          "base_uri": "https://localhost:8080/"
        },
        "id": "O4MPk0yU9G4s",
        "outputId": "49647905-1155-4e02-b653-b4a5abf89a43"
      },
      "source": [
        "two_weeks_daily_visualizations = total_data.sum(axis=0)\n",
        "max_daily_wo_weeks_visualization_idx = two_weeks_daily_visualizations.argmax()\n",
        "print(f\"O dia com mais visualizações foi: {days[max_daily_wo_weeks_visualization_idx]}\\nTotal: {two_weeks_daily_visualizations[max_daily_wo_weeks_visualization_idx]}\")"
      ],
      "execution_count": 15,
      "outputs": [
        {
          "output_type": "stream",
          "name": "stdout",
          "text": [
            "O dia com mais visualizações foi: Sexta\n",
            "Total: 878\n"
          ]
        }
      ]
    }
  ]
}