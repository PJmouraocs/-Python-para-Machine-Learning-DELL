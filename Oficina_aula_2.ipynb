{
  "nbformat": 4,
  "nbformat_minor": 0,
  "metadata": {
    "colab": {
      "name": "Oficina2 de py2ml",
      "provenance": []
    },
    "kernelspec": {
      "name": "python3",
      "display_name": "Python 3"
    },
    "language_info": {
      "name": "python"
    }
  },
  "cells": [
    {
      "cell_type": "markdown",
      "metadata": {
        "id": "KvxMNDcOEE3o"
      },
      "source": [
        "# Oficina2"
      ]
    },
    {
      "cell_type": "markdown",
      "metadata": {
        "id": "ej-iQBxsY6H6"
      },
      "source": [
        "Oficina Aula 2\n",
        "Olá! Esta oficina será dividida em duas etapas. Leia cada uma com atenção e faça o que se pede.\n",
        "\n",
        "ETAPA 1\n",
        "\n",
        "Pedra, papel e tesoura, também chamado de jokempô dependendo da região do Brasil, é um jogo de mãos recreativo e simples para duas ou mais pessoas que não requer equipamentos nem habilidade. Esse jogo contém um pouco de aleatoriedade, que é um assunto que você estudou durante este curso.\n",
        "\n",
        "No jogo, cada jogador deve, simultaneamente, esticar a mão formando um símbolo (que significa pedra, papel ou tesoura) com a mão. Então, os jogadores comparam os símbolos para decidir quem ganha, da seguinte forma:\n",
        "\n",
        "Pedra (punho fechado) ganha da tesoura, pois a pedra quebra a tesoura.\n",
        "Tesoura (dedo indicador e dedo médio) ganha do papel, cortando-o.\n",
        "Papel (mão aberta) ganha da pedra, embrulhando-a.\n",
        "Caso dois jogadores façam o mesmo gesto, ocorre um empate e, geralmente, é preciso jogar novamente para desempatar.\n",
        "\n",
        "Bom, com base nesse contexto, nesta primeira etapa da oficina, escreva um código que utilize a biblioteca Random para recriar esse jogo. O jogo só precisa dar as opções: pedra, papel, tesoura e sair, para o jogador escolher. O jogador pode escolher qualquer uma das opções, mas o jogo só finaliza quando o jogador escolher a opção sair. Ao finalizar, envie seu código como resposta desta primeira etapa, depois disso, avance para a segunda parte da oficina. O texto a seguir exemplifica o que deve aparecer na tela.\n",
        "\n",
        "Escolha uma opção (1, 2, 3 ou 4):\n",
        "1-Pedra\n",
        "2-Papel\n",
        "3-Tesoura\n",
        "4-Sair\n",
        "1\n",
        "Sua jogada -> Pedra\n",
        "Jogada da máquina -> Tesoura\n",
        "Você ganhou!\n",
        "ETAPA 2\n",
        "\n",
        "Agora atente-se à segunda etapa da oficina.\n",
        "\n",
        "Como você já desenvolveu um jogo de pedra, papel e tesoura, no qual a máquina se utiliza somente do elemento da sorte para ganhar de outro jogador, melhore as sugestões que a máquina fornece.\n",
        "\n",
        "Diferentemente de outros jogos que se baseiam exclusivamente em sorte, saiba que pedra, papel e tesoura pode ser jogado com um pouco de habilidade. Principalmente se o jogo se estender por vários turnos com o mesmo jogador. Isso porque ele pode reconhecer e explorar a lógica do comportamento do adversário, ou seja, perceber e antecipar as jogadas do adversário.\n",
        "\n",
        "Sabendo disso, faça com que a máquina aprenda como ganhar do adversário utilizando Machine Learning. Para isso, utilize o algoritmo ZeroR, que é um simples algoritmo de ML. Ele tem o papel de selecionar a classe (pedra, papel ou tesoura) com a maior probabilidade de aparecer. Apesar de ele não ser um bom classificador, muitas vezes, é usado como uma linha de base para saber se um determinado algoritmo tem um bom desempenho.\n",
        "\n",
        "A dica é: de acordo com as jogadas do adversário, faça com que a máquina identifique qual é o símbolo que ele mais utiliza e, sabendo disso, faça a máquina escolher o símbolo que ganhará do símbolo que ele mais usa.\n",
        "\n",
        "Utilize o código que você já tem – da etapa anterior – e crie essa nova funcionalidade. Lembre-se de que, como a máquina não tem um histórico de jogadas do adversário ao início da partida, você deve iniciar as primeiras jogadas de forma aleatória para, depois, começar a utilizar o algoritmo de ML, certo? Você pode fazer com que, após o quinto turno, ao invés de a máquina fazer uma jogada aleatória, ela chame um método que recebe a lista de jogadas anteriores do jogador e retorne qual foi a jogada mais usada.\n",
        "\n",
        "Ao finalizar, envie seu código como resposta.\n",
        "\n",
        "Bom trabalho!"
      ]
    },
    {
      "cell_type": "code",
      "metadata": {
        "id": "iOQofPIyEIsw"
      },
      "source": [
        "import random\n",
        "\n",
        "options = ['Papel', 'Pedra', 'Tesoura'] "
      ],
      "execution_count": 35,
      "outputs": []
    },
    {
      "cell_type": "code",
      "metadata": {
        "id": "qzrc_UC1EMna"
      },
      "source": [
        "def jkp_result(usuario, maquina):\n",
        "    if maquina == usuario:\n",
        "        return \"Empate!\"\n",
        "    elif usuario == 'Papel':\n",
        "        if maquina == 'Pedra':\n",
        "            return 'Usuário venceu!'\n",
        "        else:\n",
        "            return 'Usuário perdeu!'\n",
        "    elif usuario == 'Pedra':\n",
        "        if maquina == 'Tesoura':\n",
        "            return 'Usuário venceu!'\n",
        "        else:\n",
        "            return 'Usuário perdeu!'\n",
        "    elif usuario == 'Tesoura':\n",
        "        if maquina == 'Papel':\n",
        "            return 'Usuário venceu!'\n",
        "        else:\n",
        "            return 'Usuário perdeu!'"
      ],
      "execution_count": 36,
      "outputs": []
    },
    {
      "cell_type": "code",
      "metadata": {
        "colab": {
          "base_uri": "https://localhost:8080/",
          "height": 35
        },
        "id": "kC4ZXvY2GCNH",
        "outputId": "720e8fc6-54be-41e2-994a-8abc0ee78f04"
      },
      "source": [
        "#teste da função resultado jokenpo \n",
        "result = jkp_result('Tesoura', 'Pedra')\n",
        "result"
      ],
      "execution_count": 37,
      "outputs": [
        {
          "output_type": "execute_result",
          "data": {
            "application/vnd.google.colaboratory.intrinsic+json": {
              "type": "string"
            },
            "text/plain": [
              "'Usuário perdeu!'"
            ]
          },
          "metadata": {},
          "execution_count": 37
        }
      ]
    },
    {
      "cell_type": "markdown",
      "metadata": {
        "id": "q_BE5MFAGZtu"
      },
      "source": [
        "# **Parte** 1"
      ]
    },
    {
      "cell_type": "code",
      "metadata": {
        "id": "LxmZuiUGGes4"
      },
      "source": [
        "print('Ei! Vamos jogar Jo Ken Po?')\n",
        "\n",
        "while True: \n",
        "  user_play = int(input(\"\"\"\n",
        "  Selecione um opção:\n",
        "  0 - Papel\n",
        "  1 - Pedra\n",
        "  2 - Tesoura\n",
        "  3 - Sair\n",
        "  \"\"\"))\n",
        "  if user_play == 5:\n",
        "    print(\"Tchau!\")\n",
        "    break\n",
        "\n",
        "machine_play = random.choice(options)\n",
        "result = jkp_result(options[user_play], machine_play)\n",
        "print(f\"Jogada da máquina: {machine_play}\\nJogada do usuário: {options[user_play]}\")\n",
        "print(result)"
      ],
      "execution_count": null,
      "outputs": []
    },
    {
      "cell_type": "markdown",
      "metadata": {
        "id": "KlTHgOIeKa7L"
      },
      "source": [
        "# Parte 2"
      ]
    },
    {
      "cell_type": "code",
      "metadata": {
        "id": "XFf9pRzJHG_W"
      },
      "source": [
        "def machine_choice(memory, choices):\n",
        "\n",
        "  if len(memory) <= 5:\n",
        "    machine_play = random.choice(options)\n",
        "  else:\n",
        "    plays_count = {\n",
        "        choice: memory.count(choices)\n",
        "        for choice in choices\n",
        "    }\n",
        "\n",
        "    most_played = max(plays_count, key=plays_count.get)\n",
        "\n",
        "    if most_played == 'Pedra':\n",
        "      machine_play = 'Papel'\n",
        "    elif most_played == 'Papel':\n",
        "      machine_play = 'Tesoura'\n",
        "    else:\n",
        "      machine_play = 'Pedra'\n",
        "  return machine_play"
      ],
      "execution_count": 49,
      "outputs": []
    },
    {
      "cell_type": "code",
      "metadata": {
        "colab": {
          "base_uri": "https://localhost:8080/"
        },
        "id": "F-NYaq2uM7Tr",
        "outputId": "60cdfc90-b0bc-4d03-944c-415ec352d49b"
      },
      "source": [
        "game_memory = []\n",
        "options = ['Papel','Pedra', 'Tesoura']\n",
        "\n",
        "print(\"Ei! Vamos jogar Jo Ken Po?\")\n",
        "\n",
        "while True:\n",
        "    user_play = int(input(\"\"\"\n",
        "  Selecione um opção:\n",
        "  0 - Papel\n",
        "  1 - Pedra\n",
        "  2 - Tesoura\n",
        "  3 - Sair\n",
        "  \"\"\"))\n",
        "    \n",
        "    if user_play == 3:\n",
        "        print(\"Tchau!\")\n",
        "        break\n",
        "        \n",
        "    game_memory.append(options[user_play])\n",
        "    print(game_memory)\n",
        "\n",
        "    machine_play = machine_choice(game_memory, options)\n",
        "\n",
        "    result = jkp_result(options[user_play], machine_play)\n",
        "    print(f\"Jogada da máquina: {machine_play}\\nJogada do usuário: {options[user_play]}\")\n",
        "    print(result)"
      ],
      "execution_count": 51,
      "outputs": [
        {
          "output_type": "stream",
          "name": "stdout",
          "text": [
            "Ei! Vamos jogar Jo Ken Po?\n",
            "\n",
            "  Selecione um opção:\n",
            "  0 - Papel\n",
            "  1 - Pedra\n",
            "  2 - Tesoura\n",
            "  3 - Sair\n",
            "  2\n",
            "['Tesoura']\n",
            "Jogada da máquina: Pedra\n",
            "Jogada do usuário: Tesoura\n",
            "Usuário perdeu!\n",
            "\n",
            "  Selecione um opção:\n",
            "  0 - Papel\n",
            "  1 - Pedra\n",
            "  2 - Tesoura\n",
            "  3 - Sair\n",
            "  1\n",
            "['Tesoura', 'Pedra']\n",
            "Jogada da máquina: Tesoura\n",
            "Jogada do usuário: Pedra\n",
            "Usuário venceu!\n",
            "\n",
            "  Selecione um opção:\n",
            "  0 - Papel\n",
            "  1 - Pedra\n",
            "  2 - Tesoura\n",
            "  3 - Sair\n",
            "  0\n",
            "['Tesoura', 'Pedra', 'Papel']\n",
            "Jogada da máquina: Papel\n",
            "Jogada do usuário: Papel\n",
            "Empate!\n",
            "\n",
            "  Selecione um opção:\n",
            "  0 - Papel\n",
            "  1 - Pedra\n",
            "  2 - Tesoura\n",
            "  3 - Sair\n",
            "  1\n",
            "['Tesoura', 'Pedra', 'Papel', 'Pedra']\n",
            "Jogada da máquina: Papel\n",
            "Jogada do usuário: Pedra\n",
            "Usuário perdeu!\n",
            "\n",
            "  Selecione um opção:\n",
            "  0 - Papel\n",
            "  1 - Pedra\n",
            "  2 - Tesoura\n",
            "  3 - Sair\n",
            "  2\n",
            "['Tesoura', 'Pedra', 'Papel', 'Pedra', 'Tesoura']\n",
            "Jogada da máquina: Papel\n",
            "Jogada do usuário: Tesoura\n",
            "Usuário venceu!\n",
            "\n",
            "  Selecione um opção:\n",
            "  0 - Papel\n",
            "  1 - Pedra\n",
            "  2 - Tesoura\n",
            "  3 - Sair\n",
            "  0\n",
            "['Tesoura', 'Pedra', 'Papel', 'Pedra', 'Tesoura', 'Papel']\n",
            "Jogada da máquina: Tesoura\n",
            "Jogada do usuário: Papel\n",
            "Usuário perdeu!\n",
            "\n",
            "  Selecione um opção:\n",
            "  0 - Papel\n",
            "  1 - Pedra\n",
            "  2 - Tesoura\n",
            "  3 - Sair\n",
            "  2\n",
            "['Tesoura', 'Pedra', 'Papel', 'Pedra', 'Tesoura', 'Papel', 'Tesoura']\n",
            "Jogada da máquina: Tesoura\n",
            "Jogada do usuário: Tesoura\n",
            "Empate!\n",
            "\n",
            "  Selecione um opção:\n",
            "  0 - Papel\n",
            "  1 - Pedra\n",
            "  2 - Tesoura\n",
            "  3 - Sair\n",
            "  0\n",
            "['Tesoura', 'Pedra', 'Papel', 'Pedra', 'Tesoura', 'Papel', 'Tesoura', 'Papel']\n",
            "Jogada da máquina: Tesoura\n",
            "Jogada do usuário: Papel\n",
            "Usuário perdeu!\n",
            "\n",
            "  Selecione um opção:\n",
            "  0 - Papel\n",
            "  1 - Pedra\n",
            "  2 - Tesoura\n",
            "  3 - Sair\n",
            "  1\n",
            "['Tesoura', 'Pedra', 'Papel', 'Pedra', 'Tesoura', 'Papel', 'Tesoura', 'Papel', 'Pedra']\n",
            "Jogada da máquina: Tesoura\n",
            "Jogada do usuário: Pedra\n",
            "Usuário venceu!\n",
            "\n",
            "  Selecione um opção:\n",
            "  0 - Papel\n",
            "  1 - Pedra\n",
            "  2 - Tesoura\n",
            "  3 - Sair\n",
            "  1\n",
            "['Tesoura', 'Pedra', 'Papel', 'Pedra', 'Tesoura', 'Papel', 'Tesoura', 'Papel', 'Pedra', 'Pedra']\n",
            "Jogada da máquina: Tesoura\n",
            "Jogada do usuário: Pedra\n",
            "Usuário venceu!\n",
            "\n",
            "  Selecione um opção:\n",
            "  0 - Papel\n",
            "  1 - Pedra\n",
            "  2 - Tesoura\n",
            "  3 - Sair\n",
            "  1\n",
            "['Tesoura', 'Pedra', 'Papel', 'Pedra', 'Tesoura', 'Papel', 'Tesoura', 'Papel', 'Pedra', 'Pedra', 'Pedra']\n",
            "Jogada da máquina: Tesoura\n",
            "Jogada do usuário: Pedra\n",
            "Usuário venceu!\n",
            "\n",
            "  Selecione um opção:\n",
            "  0 - Papel\n",
            "  1 - Pedra\n",
            "  2 - Tesoura\n",
            "  3 - Sair\n",
            "  1\n",
            "['Tesoura', 'Pedra', 'Papel', 'Pedra', 'Tesoura', 'Papel', 'Tesoura', 'Papel', 'Pedra', 'Pedra', 'Pedra', 'Pedra']\n",
            "Jogada da máquina: Tesoura\n",
            "Jogada do usuário: Pedra\n",
            "Usuário venceu!\n",
            "\n",
            "  Selecione um opção:\n",
            "  0 - Papel\n",
            "  1 - Pedra\n",
            "  2 - Tesoura\n",
            "  3 - Sair\n",
            "  2\n",
            "['Tesoura', 'Pedra', 'Papel', 'Pedra', 'Tesoura', 'Papel', 'Tesoura', 'Papel', 'Pedra', 'Pedra', 'Pedra', 'Pedra', 'Tesoura']\n",
            "Jogada da máquina: Tesoura\n",
            "Jogada do usuário: Tesoura\n",
            "Empate!\n",
            "\n",
            "  Selecione um opção:\n",
            "  0 - Papel\n",
            "  1 - Pedra\n",
            "  2 - Tesoura\n",
            "  3 - Sair\n",
            "  3\n",
            "Tchau!\n"
          ]
        }
      ]
    }
  ]
}